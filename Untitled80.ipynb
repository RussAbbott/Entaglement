{
  "nbformat": 4,
  "nbformat_minor": 0,
  "metadata": {
    "colab": {
      "provenance": [],
      "authorship_tag": "ABX9TyNIJGHEaRVoxnBb50KpFz/y",
      "include_colab_link": true
    },
    "kernelspec": {
      "name": "python3",
      "display_name": "Python 3"
    },
    "language_info": {
      "name": "python"
    }
  },
  "cells": [
    {
      "cell_type": "markdown",
      "metadata": {
        "id": "view-in-github",
        "colab_type": "text"
      },
      "source": [
        "<a href=\"https://colab.research.google.com/github/RussAbbott/Entaglement/blob/main/Untitled80.ipynb\" target=\"_parent\"><img src=\"https://colab.research.google.com/assets/colab-badge.svg\" alt=\"Open In Colab\"/></a>"
      ]
    },
    {
      "cell_type": "code",
      "execution_count": 1,
      "metadata": {
        "colab": {
          "base_uri": "https://localhost:8080/"
        },
        "id": "sLAfwhaw42Hd",
        "outputId": "70a30fb7-5062-40e8-f58f-d8361ffc39f4"
      },
      "outputs": [
        {
          "output_type": "stream",
          "name": "stdout",
          "text": [
            "d1 = {'a': 1}\tNothing strange here.\n",
            "d2 = {'a': 1}\tHow did d2 get any entries?\n",
            "d1 = {'a': 2}\tWhy did d1 change?\n",
            "d3 = {'a': 2}\tHow did d3 get any entries?\n",
            "Is this the software version of entanglement?\n",
            "d1 = {'a': 3}  d2 = {'a': 3}  d3 = {'a': 3}\n"
          ]
        }
      ],
      "source": [
        "from typing import Dict\n",
        "\n",
        "def entanglement_fn_1(d: Dict[str, int]=dict()) -> Dict[str, int]:\n",
        "    return d\n",
        "\n",
        "d1 = entanglement_fn_1()\n",
        "d1['a'] = 1\n",
        "print(f'{d1 = }\\tNothing strange here.')\n",
        "d2 = entanglement_fn_1()\n",
        "print(f'{d2 = }\\tHow did d2 get any entries?')\n",
        "d2['a'] = 2\n",
        "print(f'{d1 = }\\tWhy did d1 change?')\n",
        "d3 = entanglement_fn_1()\n",
        "print(f'{d3 = }\\tHow did d3 get any entries?')\n",
        "d2['a'] = 3\n",
        "print(f'Is this the software version of entanglement?\\n{d1 = }  {d2 = }  {d3 = }')\n",
        "\n"
      ]
    },
    {
      "cell_type": "code",
      "source": [
        "from typing import Dict\n",
        "\n",
        "d0: Dict[str, int] = dict()\n",
        "\n",
        "def entanglement_fn_2(d: Dict[str, int]=d0) -> Dict[str, int]:\n",
        "    return d\n",
        "\n",
        "d1 = entanglement_fn_2()\n",
        "d1['a'] = 1\n",
        "print(f'{d0 = }\\tNothing strange here.')\n",
        "print(f'{d0 is d1 = }')\n",
        "d2 = entanglement_fn_2()\n",
        "print(f'{d2 = }\\tHow did d2 get any entries?')\n",
        "print(f'{d1 is d2 = }')\n",
        "d2['a'] = 2\n",
        "print(f'{d1 = }\\tWhy did d1 change?')\n",
        "d3 = entanglement_fn_2()\n",
        "print(f'{d3 = }\\tHow did d3 get any entries?')\n",
        "print(f'{d2 is d3 = }')\n",
        "d2['a'] = 3\n",
        "print(f'This has nothing to do with entanglement?')\n",
        "print(f'{d0 is d1 = };  {d1 is d2 = };  {d2 is d3 = }.')\n"
      ],
      "metadata": {
        "colab": {
          "base_uri": "https://localhost:8080/"
        },
        "id": "NdNAqSjE49Lw",
        "outputId": "986dbb7b-5154-407c-e3d9-d829bdaf1455"
      },
      "execution_count": 2,
      "outputs": [
        {
          "output_type": "stream",
          "name": "stdout",
          "text": [
            "d0 = {'a': 1}\tNothing strange here.\n",
            "d0 is d1 = True\n",
            "d2 = {'a': 1}\tHow did d2 get any entries?\n",
            "d1 is d2 = True\n",
            "d1 = {'a': 2}\tWhy did d1 change?\n",
            "d3 = {'a': 2}\tHow did d3 get any entries?\n",
            "d2 is d3 = True\n",
            "This has nothing to do with entanglement?\n",
            "d0 is d1 = True;  d1 is d2 = True;  d2 is d3 = True.\n"
          ]
        }
      ]
    }
  ]
}